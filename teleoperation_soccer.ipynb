{
 "cells": [
  {
   "cell_type": "code",
   "execution_count": 2,
   "metadata": {},
   "outputs": [
    {
     "name": "stdout",
     "output_type": "stream",
     "text": [
      "Defaulting to user installation because normal site-packages is not writeable\n",
      "Collecting pyserial\n",
      "  Downloading pyserial-3.5-py2.py3-none-any.whl (90 kB)\n",
      "\u001b[K     |████████████████████████████████| 90 kB 662 kB/s eta 0:00:01\n",
      "\u001b[?25hInstalling collected packages: pyserial\n",
      "Successfully installed pyserial-3.5\n"
     ]
    }
   ],
   "source": [
    "!pip install pyserial"
   ]
  },
  {
   "cell_type": "markdown",
   "metadata": {},
   "source": [
    "# 1. Dynamixl Test"
   ]
  },
  {
   "cell_type": "code",
   "execution_count": 14,
   "metadata": {},
   "outputs": [],
   "source": [
    "from dynamixel_sdk_package import *                    # Uses Dynamixel SDK library\n",
    "\n",
    "def omniwheel_move(motor_id, speed):\n",
    "    # Control table address\n",
    "    ADDR_MX_TORQUE_ENABLE      = 24               # Control table address is different in Dynamixel model\n",
    "    ADDR_MX_GOAL_POSITION      = 30\n",
    "    ADDR_MX_PRESENT_POSITION   = 36\n",
    "    ADDR_MX_MOVING_SPEED       = 32\n",
    "\n",
    "    # Protocol version\n",
    "    PROTOCOL_VERSION            = 1.0               # See which protocol version is used in the Dynamixel\n",
    "    \n",
    "    # Default setting\n",
    "    DXL_ID = motor_id\n",
    "    #DXL_ID                      = 1                # Dynamixel ID : 1\n",
    "    BAUDRATE                    = 57600             # Dynamixel default baudrate : 57600\n",
    "    DEVICENAME                  = '/dev/ttyUSB0'    # Check which port is being used on your controller\n",
    "                                                    # ex) Windows: \"COM1\"   Linux: \"/dev/ttyUSB0\" Mac: \"/dev/tty.usbserial-*\"\n",
    "\n",
    "    TORQUE_ENABLE               = 1                 # Value for enabling the torque\n",
    "    TORQUE_DISABLE              = 0                 # Value for disabling the torque\n",
    "    DXL_MINIMUM_POSITION_VALUE  = 10           # Dynamixel will rotate between this value\n",
    "    DXL_MAXIMUM_POSITION_VALUE  = 4000            # and this value (note that the Dynamixel would not move when the position value is out of movable range. Check e-manual about the range of the Dynamixel you use.)\n",
    "    DXL_MOVING_STATUS_THRESHOLD = 20                # Dynamixel moving status threshold\n",
    "\n",
    "    index = 0\n",
    "    dxl_goal_position = [DXL_MINIMUM_POSITION_VALUE, DXL_MAXIMUM_POSITION_VALUE]         # Goal position\n",
    "\n",
    "    # Initialize PortHandler instance\n",
    "    # Set the port path\n",
    "    # Get methods and members of PortHandlerLinux or PortHandlerWindows\n",
    "    portHandler = PortHandler(DEVICENAME)\n",
    "\n",
    "    # Initialize PacketHandler instance\n",
    "    # Set the protocol version\n",
    "    # Get methods and members of Protocol1PacketHandler or Protocol2PacketHandler\n",
    "    packetHandler = PacketHandler(PROTOCOL_VERSION)\n",
    "\n",
    "    # Open port\n",
    "    if portHandler.openPort():\n",
    "        #print(\"Succeeded to open the port\")\n",
    "        pass\n",
    "    else:\n",
    "        print(\"Failed to open the port\")\n",
    "        print(\"Press any key to terminate...\")\n",
    "        getch()\n",
    "        quit()\n",
    "\n",
    "    # Set port baudrate\n",
    "    if portHandler.setBaudRate(BAUDRATE):\n",
    "        #print(\"Succeeded to change the baudrate\")\n",
    "        pass\n",
    "    else:\n",
    "        print(\"Failed to change the baudrate\")\n",
    "        print(\"Press any key to terminate...\")\n",
    "        getch()\n",
    "        quit()\n",
    "\n",
    "    # Enable Dynamixel Torque\n",
    "    #dxl_comm_result, dxl_error = packetHandler.write1ByteTxRx(portHandler, DXL_ID, ADDR_MX_TORQUE_ENABLE, TORQUE_ENABLE)\n",
    "    dxl_comm_result, dxl_error = packetHandler.write2ByteTxRx(portHandler, DXL_ID, ADDR_MX_MOVING_SPEED, speed)\n",
    "    #print(\"dxl_comm_result: \" + str(dxl_comm_result))\n",
    "    if dxl_comm_result != COMM_SUCCESS:\n",
    "        print(\"%s\" % packetHandler.getTxRxResult(dxl_comm_result))\n",
    "    elif dxl_error != 0:\n",
    "        print(\"%s\" % packetHandler.getRxPacketError(dxl_error))\n",
    "    else:\n",
    "        pass\n",
    "        #print(\"Dynamixel has been successfully connected\")"
   ]
  },
  {
   "cell_type": "code",
   "execution_count": 2,
   "metadata": {},
   "outputs": [
    {
     "name": "stdout",
     "output_type": "stream",
     "text": [
      "[sudo] password for kimbring2: \n"
     ]
    }
   ],
   "source": [
    "!sudo chmod a+rw /dev/ttyUSB0\n",
    "#omniwheel_move(1,50)"
   ]
  },
  {
   "cell_type": "code",
   "execution_count": 15,
   "metadata": {},
   "outputs": [],
   "source": [
    "# Stop\n",
    "def stop():\n",
    "    omniwheel_move(0,0)\n",
    "    omniwheel_move(1,0)\n",
    "    omniwheel_move(2,0)\n",
    "    omniwheel_move(3,0)\n",
    "    \n",
    "# Forward\n",
    "def forward():\n",
    "    omniwheel_move(0,1074)\n",
    "    omniwheel_move(1,50)\n",
    "    omniwheel_move(2,50)\n",
    "    omniwheel_move(3,1074)\n",
    "    \n",
    "# Left\n",
    "def left():\n",
    "    omniwheel_move(0,1074)\n",
    "    omniwheel_move(1,1074)\n",
    "    omniwheel_move(2,1074)\n",
    "    omniwheel_move(3,1074)\n",
    "    \n",
    "# Right\n",
    "def right():\n",
    "    omniwheel_move(0,50)\n",
    "    omniwheel_move(1,50)\n",
    "    omniwheel_move(2,50)\n",
    "    omniwheel_move(3,50)\n",
    "    \n",
    "# Back\n",
    "def back():\n",
    "    omniwheel_move(0,50)\n",
    "    omniwheel_move(1,1074)\n",
    "    omniwheel_move(2,1074)\n",
    "    omniwheel_move(3,50)"
   ]
  },
  {
   "cell_type": "code",
   "execution_count": 17,
   "metadata": {},
   "outputs": [],
   "source": [
    "forward()"
   ]
  },
  {
   "cell_type": "code",
   "execution_count": 18,
   "metadata": {},
   "outputs": [],
   "source": [
    "stop()"
   ]
  },
  {
   "cell_type": "code",
   "execution_count": 13,
   "metadata": {},
   "outputs": [],
   "source": [
    "import traitlets\n",
    "from traitlets.config.configurable import Configurable\n",
    "\n",
    "\n",
    "class OmniWheelStop(Configurable):\n",
    "    value = traitlets.Float()\n",
    "\n",
    "    def __init__(self, *args, **kwargs):\n",
    "        super(OmniWheelStop, self).__init__(*args, **kwargs)  # initializes traitlets\n",
    "    \n",
    "    @traitlets.observe('value')\n",
    "    def _observe_value(self, change):\n",
    "        self._write_value(change['new'])\n",
    "\n",
    "    def _write_value(self, value):\n",
    "        \"\"\"Sets motor value between [-1, 1]\"\"\"\n",
    "        stop()\n",
    "\n",
    "    def _release(self):\n",
    "        \"\"\"Stops motor by releasing control\"\"\"\n",
    "        print(\"_release\")\n",
    "\n",
    "        \n",
    "class OmniWheelForward(Configurable):\n",
    "    value = traitlets.Float()\n",
    "\n",
    "    def __init__(self, *args, **kwargs):\n",
    "        super(OmniWheelForward, self).__init__(*args, **kwargs)  # initializes traitlets\n",
    "    \n",
    "    @traitlets.observe('value')\n",
    "    def _observe_value(self, change):\n",
    "        self._write_value(change['new'])\n",
    "\n",
    "    def _write_value(self, value):\n",
    "        \"\"\"Sets motor value between [-1, 1]\"\"\"\n",
    "        forward()\n",
    "\n",
    "    def _release(self):\n",
    "        \"\"\"Stops motor by releasing control\"\"\"\n",
    "        print(\"_release\")\n",
    "\n",
    "        \n",
    "class OmniWheelLeft(Configurable):\n",
    "    value = traitlets.Float()\n",
    "\n",
    "    def __init__(self, *args, **kwargs):\n",
    "        super(OmniWheelLeft, self).__init__(*args, **kwargs)  # initializes traitlets\n",
    "    \n",
    "    @traitlets.observe('value')\n",
    "    def _observe_value(self, change):\n",
    "        self._write_value(change['new'])\n",
    "\n",
    "    def _write_value(self, value):\n",
    "        \"\"\"Sets motor value between [-1, 1]\"\"\"\n",
    "        left()\n",
    "\n",
    "    def _release(self):\n",
    "        \"\"\"Stops motor by releasing control\"\"\"\n",
    "        print(\"_release\")\n",
    "        \n",
    "        \n",
    "class OmniWheelRight(Configurable):\n",
    "    value = traitlets.Float()\n",
    "\n",
    "    def __init__(self, *args, **kwargs):\n",
    "        super(OmniWheelRight, self).__init__(*args, **kwargs)  # initializes traitlets\n",
    "    \n",
    "    @traitlets.observe('value')\n",
    "    def _observe_value(self, change):\n",
    "        self._write_value(change['new'])\n",
    "\n",
    "    def _write_value(self, value):\n",
    "        \"\"\"Sets motor value between [-1, 1]\"\"\"\n",
    "        right()\n",
    "\n",
    "    def _release(self):\n",
    "        \"\"\"Stops motor by releasing control\"\"\"\n",
    "        print(\"_release\")\n",
    "        \n",
    "        \n",
    "class OmniWheelBack(Configurable):\n",
    "    value = traitlets.Float()\n",
    "\n",
    "    def __init__(self, *args, **kwargs):\n",
    "        super(OmniWheelBack, self).__init__(*args, **kwargs)  # initializes traitlets\n",
    "    \n",
    "    @traitlets.observe('value')\n",
    "    def _observe_value(self, change):\n",
    "        self._write_value(change['new'])\n",
    "\n",
    "    def _write_value(self, value):\n",
    "        \"\"\"Sets motor value between [-1, 1]\"\"\"\n",
    "        back()\n",
    "\n",
    "    def _release(self):\n",
    "        \"\"\"Stops motor by releasing control\"\"\"\n",
    "        print(\"_release\")"
   ]
  },
  {
   "cell_type": "code",
   "execution_count": 14,
   "metadata": {},
   "outputs": [],
   "source": [
    "omniwheel_stop = OmniWheelStop()\n",
    "omniwheel_forward = OmniWheelForward()\n",
    "omniwheel_left = OmniWheelLeft()\n",
    "omniwheel_right = OmniWheelRight()\n",
    "omniwheel_back = OmniWheelBack()"
   ]
  },
  {
   "cell_type": "markdown",
   "metadata": {},
   "source": [
    "# 2. Solenoid Test"
   ]
  },
  {
   "cell_type": "code",
   "execution_count": 15,
   "metadata": {},
   "outputs": [],
   "source": [
    "import RPi.GPIO as GPIO\n",
    "import time\n",
    "\n",
    "def solenoid_active():\n",
    "    # Pin Definitions\n",
    "    output_pin = 18  # BCM pin 18, BOARD pin 12\n",
    "    \n",
    "    # Pin Setup:\n",
    "    GPIO.setmode(GPIO.BCM)  # BCM pin-numbering scheme from Raspberry Pi\n",
    "    # set pin as an output pin with optional initial state of HIGH\n",
    "    GPIO.setup(output_pin, GPIO.OUT, initial=GPIO.HIGH)\n",
    "\n",
    "    print(\"Starting demo now! Press CTRL+C to exit\")\n",
    "    curr_value = GPIO.HIGH\n",
    "    time.sleep(1)\n",
    "    \n",
    "    print(\"Outputting {} to pin {}\".format(curr_value, output_pin))\n",
    "    GPIO.output(output_pin, curr_value)\n",
    "    #curr_value ^= GPIO.HIGH\n",
    "    GPIO.cleanup()"
   ]
  },
  {
   "cell_type": "code",
   "execution_count": 16,
   "metadata": {},
   "outputs": [
    {
     "name": "stdout",
     "output_type": "stream",
     "text": [
      "Starting demo now! Press CTRL+C to exit\n",
      "Outputting 1 to pin 18\n"
     ]
    }
   ],
   "source": [
    "solenoid_active()"
   ]
  },
  {
   "cell_type": "code",
   "execution_count": 17,
   "metadata": {},
   "outputs": [],
   "source": [
    "class SolenoidKick(Configurable):\n",
    "    value = traitlets.Float()\n",
    "\n",
    "    def __init__(self, *args, **kwargs):\n",
    "        super(SolenoidKick, self).__init__(*args, **kwargs)  # initializes traitlets\n",
    "    \n",
    "    @traitlets.observe('value')\n",
    "    def _observe_value(self, change):\n",
    "        self._write_value(change['new'])\n",
    "\n",
    "    def _write_value(self, value):\n",
    "        \"\"\"Sets motor value between [-1, 1]\"\"\"\n",
    "        solenoid_active()\n",
    "\n",
    "    def _release(self):\n",
    "        \"\"\"Stops motor by releasing control\"\"\"\n",
    "        print(\"_release\")"
   ]
  },
  {
   "cell_type": "code",
   "execution_count": 18,
   "metadata": {},
   "outputs": [],
   "source": [
    "solenoid_kick = SolenoidKick()"
   ]
  },
  {
   "cell_type": "markdown",
   "metadata": {},
   "source": [
    "# 3. Roller Test"
   ]
  },
  {
   "cell_type": "code",
   "execution_count": 51,
   "metadata": {},
   "outputs": [],
   "source": [
    "import RPi.GPIO as GPIO\n",
    "import time\n",
    "\n",
    "def roller_activate():\n",
    "    # Pin Definitions\n",
    "    output_pin_1 = 5  # BCM pin 18, BOARD pin 12\n",
    "    output_pin_2 = 6  # BCM pin 18, BOARD pin 12\n",
    "    \n",
    "    # Pin Setup:\n",
    "    GPIO.setmode(GPIO.BCM)  # BCM pin-numbering scheme from Raspberry Pi\n",
    "    # set pin as an output pin with optional initial state of HIGH\n",
    "    GPIO.setup(output_pin_1, GPIO.OUT, initial=GPIO.LOW)\n",
    "    GPIO.setup(output_pin_2, GPIO.OUT, initial=GPIO.HIGH)\n",
    "\n",
    "    time.sleep(1)\n",
    "    \n",
    "    GPIO.output(5, GPIO.LOW)\n",
    "    GPIO.output(6, GPIO.HIGH)\n",
    "    \n",
    "    time.sleep(1)\n",
    "    GPIO.cleanup()"
   ]
  },
  {
   "cell_type": "code",
   "execution_count": 52,
   "metadata": {},
   "outputs": [],
   "source": [
    "roller_activate()"
   ]
  },
  {
   "cell_type": "code",
   "execution_count": 53,
   "metadata": {},
   "outputs": [],
   "source": [
    "class RollerIn(Configurable):\n",
    "    value = traitlets.Float()\n",
    "\n",
    "    def __init__(self, *args, **kwargs):\n",
    "        super(RollerIn, self).__init__(*args, **kwargs)  # initializes traitlets\n",
    "    \n",
    "    @traitlets.observe('value')\n",
    "    def _observe_value(self, change):\n",
    "        self._write_value(change['new'])\n",
    "\n",
    "    def _write_value(self, value):\n",
    "        \"\"\"Sets motor value between [-1, 1]\"\"\"\n",
    "        roller_activate()\n",
    "\n",
    "    def _release(self):\n",
    "        \"\"\"Stops motor by releasing control\"\"\"\n",
    "        print(\"_release\")"
   ]
  },
  {
   "cell_type": "code",
   "execution_count": 54,
   "metadata": {},
   "outputs": [],
   "source": [
    "roller_in = RollerIn()"
   ]
  },
  {
   "cell_type": "markdown",
   "metadata": {},
   "source": [
    "# 4. Camera Test"
   ]
  },
  {
   "cell_type": "markdown",
   "metadata": {},
   "source": [
    "### Create camera instance\n",
    "\n",
    "Well, right now there's no image presented, because we haven't set the value yet!  We can do this by creating our ``Camera``\n",
    "class and attaching the ``value`` attribute of the camera to the ``value attribute of the image.\n",
    "\n",
    "First, let's create the camera instance, we call the ``instance`` method which will create a new camera\n",
    "if it hasn't been created yet.  If once already exists, this method will return the existing camera."
   ]
  },
  {
   "cell_type": "code",
   "execution_count": 1,
   "metadata": {},
   "outputs": [],
   "source": [
    "from jetbot import Camera\n",
    "\n",
    "camera = Camera.instance()"
   ]
  },
  {
   "cell_type": "markdown",
   "metadata": {},
   "source": [
    "### Create and display Image widget\n",
    "\n",
    "First, let's display an ``Image`` widget that we'll use to show our live camera feed.  We'll set the ``height`` and ``width``\n",
    "to just 300 pixels so it doesn't take up too much space.\n",
    "\n",
    "> FYI: The height and width only effect the rendering on the browser side, not the native image resolution before network transport from robot to browser."
   ]
  },
  {
   "cell_type": "code",
   "execution_count": 3,
   "metadata": {},
   "outputs": [
    {
     "data": {
      "application/vnd.jupyter.widget-view+json": {
       "model_id": "b3195ad0196a4788819bc3e48fa1b83f",
       "version_major": 2,
       "version_minor": 0
      },
      "text/plain": [
       "Image(value=b'', format='jpeg', height='300', width='300')"
      ]
     },
     "metadata": {},
     "output_type": "display_data"
    }
   ],
   "source": [
    "import ipywidgets as widgets\n",
    "\n",
    "image = widgets.Image(format='jpeg', width=300, height=300)\n",
    "display(image)"
   ]
  },
  {
   "cell_type": "markdown",
   "metadata": {},
   "source": [
    "Our camera class currently only produces values in BGR8 (blue, green, red, 8bit) format, while our image widget accepts values in compressed *JPEG*.\n",
    "To connect the camera to the image we need to insert the ``bgr8_to_jpeg`` function as a transform in the link.  We do this below"
   ]
  },
  {
   "cell_type": "code",
   "execution_count": 4,
   "metadata": {},
   "outputs": [],
   "source": [
    "import traitlets\n",
    "from jetbot import bgr8_to_jpeg\n",
    "\n",
    "camera_link = traitlets.dlink((camera, 'value'), (image, 'value'), transform=bgr8_to_jpeg)"
   ]
  },
  {
   "cell_type": "markdown",
   "metadata": {},
   "source": [
    "# 5. Lidar Test"
   ]
  },
  {
   "cell_type": "code",
   "execution_count": 3,
   "metadata": {
    "scrolled": true
   },
   "outputs": [],
   "source": [
    "# -*- coding: utf-8 -*\n",
    "import serial\n",
    "import time\n",
    "import threading\n",
    "from IPython.display import clear_output\n",
    "\n",
    "ser = serial.Serial(\"/dev/ttyTHS0\", 115200)\n",
    "\n",
    "def getTFminiData():\n",
    "    #while True:\n",
    "    #time.sleep(0.1)\n",
    "    distance = -1\n",
    "    \n",
    "    count = ser.in_waiting\n",
    "    if count > 8:\n",
    "        #clear_output(wait=True)\n",
    "            \n",
    "        recv = ser.read(9)\n",
    "        ser.reset_input_buffer()\n",
    "        # type(recv), 'str' in python2(recv[0] = 'Y'), 'bytes' in python3(recv[0] = 89)\n",
    "        # type(recv[0]), 'str' in python2, 'int' in python3 \n",
    "\n",
    "        if recv[0] == 0x59 and recv[1] == 0x59:     #python3\n",
    "            distance = recv[2] + recv[3] * 256\n",
    "            strength = recv[4] + recv[5] * 256\n",
    "            #print('(', distance, ',', strength, ')')\n",
    "            ser.reset_input_buffer()\n",
    "\n",
    "        if recv[0] == 'Y' and recv[1] == 'Y':     #python2\n",
    "            lowD = int(recv[2].encode('hex'), 16)\n",
    "            highD = int(recv[3].encode('hex'), 16)\n",
    "            lowS = int(recv[4].encode('hex'), 16)\n",
    "            highS = int(recv[5].encode('hex'), 16)\n",
    "            distance = lowD + highD * 256\n",
    "            strength = lowS + highS * 256\n",
    "        \n",
    "        #print(\"distance: \" + str(distance))\n",
    "\n",
    "        return distance\n",
    "    else:\n",
    "        return 0\n",
    "    \n",
    "    \n",
    "def _get_distance():\n",
    "    while True:\n",
    "        lidar_value = getTFminiData()\n",
    "        time.sleep(0.5)\n",
    "        \n",
    "        if lidar_value != -1:\n",
    "            print(\"lidar_value: \" + str(lidar_value))\n",
    "        else:\n",
    "            break"
   ]
  },
  {
   "cell_type": "code",
   "execution_count": 4,
   "metadata": {},
   "outputs": [
    {
     "data": {
      "text/plain": [
       "6"
      ]
     },
     "execution_count": 4,
     "metadata": {},
     "output_type": "execute_result"
    }
   ],
   "source": [
    "getTFminiData()"
   ]
  },
  {
   "cell_type": "code",
   "execution_count": 3,
   "metadata": {},
   "outputs": [
    {
     "data": {
      "application/vnd.jupyter.widget-view+json": {
       "model_id": "8377f128855d4dc99582e207d50373df",
       "version_major": 2,
       "version_minor": 0
      },
      "text/plain": [
       "IntProgress(value=0, max=200)"
      ]
     },
     "metadata": {},
     "output_type": "display_data"
    },
    {
     "ename": "KeyboardInterrupt",
     "evalue": "",
     "output_type": "error",
     "traceback": [
      "\u001b[0;31m---------------------------------------------------------------------------\u001b[0m",
      "\u001b[0;31mKeyboardInterrupt\u001b[0m                         Traceback (most recent call last)",
      "\u001b[0;32m<ipython-input-3-4bb4eca6875e>\u001b[0m in \u001b[0;36m<module>\u001b[0;34m\u001b[0m\n\u001b[1;32m     14\u001b[0m     \u001b[0;31m#print(\"lidar_value: \" + str(lidar_value))\u001b[0m\u001b[0;34m\u001b[0m\u001b[0;34m\u001b[0m\u001b[0;34m\u001b[0m\u001b[0m\n\u001b[1;32m     15\u001b[0m     \u001b[0mf\u001b[0m\u001b[0;34m.\u001b[0m\u001b[0mvalue\u001b[0m \u001b[0;34m=\u001b[0m \u001b[0mgetTFminiData\u001b[0m\u001b[0;34m(\u001b[0m\u001b[0;34m)\u001b[0m\u001b[0;34m\u001b[0m\u001b[0;34m\u001b[0m\u001b[0m\n\u001b[0;32m---> 16\u001b[0;31m     \u001b[0mtime\u001b[0m\u001b[0;34m.\u001b[0m\u001b[0msleep\u001b[0m\u001b[0;34m(\u001b[0m\u001b[0;36m0.1\u001b[0m\u001b[0;34m)\u001b[0m\u001b[0;34m\u001b[0m\u001b[0;34m\u001b[0m\u001b[0m\n\u001b[0m\u001b[1;32m     17\u001b[0m     \u001b[0mcount\u001b[0m \u001b[0;34m+=\u001b[0m \u001b[0;36m1\u001b[0m\u001b[0;34m\u001b[0m\u001b[0;34m\u001b[0m\u001b[0m\n",
      "\u001b[0;31mKeyboardInterrupt\u001b[0m: "
     ]
    }
   ],
   "source": [
    "from ipywidgets import IntProgress\n",
    "from IPython.display import display\n",
    "import time\n",
    "\n",
    "max_count = 200\n",
    "\n",
    "f = IntProgress(min=0, max=max_count) # instantiate the bar\n",
    "display(f) # display the bar\n",
    "\n",
    "count = 0\n",
    "while count <= max_count:\n",
    "    #f.value += 1 # signal to increment the progress bar\n",
    "    #lidar_value = getTFminiData()\n",
    "    #print(\"lidar_value: \" + str(lidar_value))\n",
    "    f.value = getTFminiData()\n",
    "    time.sleep(0.1)\n",
    "    count += 1"
   ]
  },
  {
   "cell_type": "code",
   "execution_count": 5,
   "metadata": {
    "scrolled": true
   },
   "outputs": [
    {
     "name": "stdout",
     "output_type": "stream",
     "text": [
      "lidar_value: 191\n",
      "lidar_value: 191\n",
      "lidar_value: 191\n",
      "lidar_value: 191\n",
      "lidar_value: 191\n",
      "lidar_value: 191\n",
      "lidar_value: 191\n",
      "lidar_value: 18\n",
      "lidar_value: 7\n",
      "lidar_value: 7\n",
      "lidar_value: 6\n"
     ]
    }
   ],
   "source": [
    "thread = threading.Thread(target=_get_distance)\n",
    "thread.start()"
   ]
  },
  {
   "cell_type": "code",
   "execution_count": 5,
   "metadata": {},
   "outputs": [],
   "source": [
    "import traitlets\n",
    "from traitlets.config.configurable import Configurable\n",
    "import threading\n",
    "\n",
    "\n",
    "class LidarBase(traitlets.HasTraits):\n",
    "    value = traitlets.Any()\n",
    "    \n",
    "    @staticmethod\n",
    "    def instance(*args, **kwargs):\n",
    "        raise NotImplementedError\n",
    "    \n",
    "    def widget(self):\n",
    "        if hasattr(self, '_widget'):\n",
    "            return self._widget   # cache widget, so we don't duplicate links\n",
    "        \n",
    "        from ipywidgets import IntProgress\n",
    "        \n",
    "        intprogress = IntProgress(min=0, max=500)\n",
    "        traitlets.dlink((self, 'value'), (intprogress, 'value'), transform=lambda x: x)\n",
    "        self._widget = intprogress\n",
    "        \n",
    "        return intprogress"
   ]
  },
  {
   "cell_type": "code",
   "execution_count": 6,
   "metadata": {},
   "outputs": [],
   "source": [
    "import atexit\n",
    "\n",
    "\n",
    "class LidarValue(LidarBase):\n",
    "    value = traitlets.Any()\n",
    "    \n",
    "    def __init__(self, *args, **kwargs):\n",
    "        self.value = 50\n",
    "        super().__init__(self, *args, **kwargs)\n",
    "\n",
    "        try:\n",
    "            lidar_value = getTFminiData()\n",
    "            self.value = lidar_value\n",
    "            self.start()\n",
    "        except:\n",
    "            self.stop()\n",
    "            raise RuntimeError('Could not initialize lidar.  Please see error trace.')\n",
    "\n",
    "        atexit.register(self.stop)\n",
    "\n",
    "    def _get_distance(self):\n",
    "        while True:\n",
    "            lidar_value = getTFminiData()\n",
    "            time.sleep(0.5)\n",
    "            if lidar_value != -1:\n",
    "                self.value = lidar_value\n",
    "                #print(\"self.value: \" + str(self.value))\n",
    "            else:\n",
    "                print(\"break\")\n",
    "                break\n",
    "    \n",
    "    def start(self):\n",
    "        #if not self.cap.isOpened():\n",
    "        #    self.cap.open(self._gst_str(), cv2.CAP_GSTREAMER)\n",
    "        if not hasattr(self, 'thread') or not self.thread.isAlive():\n",
    "            self.thread = threading.Thread(target=self._get_distance)\n",
    "            self.thread.start()\n",
    "\n",
    "    def stop(self):\n",
    "        #if hasattr(self, 'cap'):\n",
    "        #    self.cap.release()\n",
    "        if hasattr(self, 'thread'):\n",
    "            self.thread.join()\n",
    "            \n",
    "    def restart(self):\n",
    "        self.stop()\n",
    "        self.start()\n",
    "        \n",
    "    @staticmethod\n",
    "    def instance(*args, **kwargs):\n",
    "        return LidarValue(*args, **kwargs)"
   ]
  },
  {
   "cell_type": "code",
   "execution_count": 7,
   "metadata": {},
   "outputs": [
    {
     "name": "stderr",
     "output_type": "stream",
     "text": [
      "/home/kimbring2/.local/lib/python3.6/site-packages/ipykernel_launcher.py:9: DeprecationWarning: Passing unrecoginized arguments to super(LidarValue).__init__(<__main__.LidarValue object at 0x7fa84b3dd8>).\n",
      "object.__init__() takes no parameters\n",
      "This is deprecated in traitlets 4.2.This error will be raised in a future release of traitlets.\n",
      "  if __name__ == '__main__':\n"
     ]
    }
   ],
   "source": [
    "lidar_value = LidarValue.instance()"
   ]
  },
  {
   "cell_type": "code",
   "execution_count": 8,
   "metadata": {
    "scrolled": true
   },
   "outputs": [
    {
     "data": {
      "application/vnd.jupyter.widget-view+json": {
       "model_id": "5c85d7a1f4a84a4c8a15936b2c00ad53",
       "version_major": 2,
       "version_minor": 0
      },
      "text/plain": [
       "IntProgress(value=0, max=500)"
      ]
     },
     "metadata": {},
     "output_type": "display_data"
    }
   ],
   "source": [
    "import ipywidgets as widgets\n",
    "from ipywidgets import IntProgress\n",
    "\n",
    "lidar_widget = IntProgress(min=0, max=500)\n",
    "\n",
    "display(lidar_widget)"
   ]
  },
  {
   "cell_type": "code",
   "execution_count": 9,
   "metadata": {},
   "outputs": [],
   "source": [
    "lidar_link = traitlets.dlink((lidar_widget, 'value'), (lidar_value, 'value'), transform=lambda x: x)"
   ]
  },
  {
   "cell_type": "markdown",
   "metadata": {},
   "source": [
    "# 6. Infrared Test"
   ]
  },
  {
   "cell_type": "code",
   "execution_count": 2,
   "metadata": {},
   "outputs": [],
   "source": [
    "import RPi.GPIO as GPIO\n",
    "import time\n",
    "\n",
    "\n",
    "def get_infrared_data():\n",
    "    # Pin Definitions\n",
    "    input_pin = 27  # BCM pin 18, BOARD pin 12\n",
    "    \n",
    "    # Pin Setup:\n",
    "    GPIO.setmode(GPIO.BCM)  # BCM pin-numbering scheme from Raspberry Pi\n",
    "    GPIO.setup(input_pin, GPIO.IN)  # set pin as an input pin\n",
    "    #print(\"Starting demo now! Press CTRL+C to exit\")\n",
    "    value = GPIO.input(input_pin)\n",
    "    #print(\"value: \" + str(value))\n",
    "\n",
    "    GPIO.cleanup()\n",
    "    \n",
    "    return value"
   ]
  },
  {
   "cell_type": "code",
   "execution_count": 3,
   "metadata": {},
   "outputs": [
    {
     "data": {
      "text/plain": [
       "1"
      ]
     },
     "execution_count": 3,
     "metadata": {},
     "output_type": "execute_result"
    }
   ],
   "source": [
    "get_infrared_data()"
   ]
  },
  {
   "cell_type": "code",
   "execution_count": 4,
   "metadata": {},
   "outputs": [
    {
     "data": {
      "application/vnd.jupyter.widget-view+json": {
       "model_id": "b373b634bb1648aa819c0ecead085b81",
       "version_major": 2,
       "version_minor": 0
      },
      "text/plain": [
       "Button(description='Custom color', style=ButtonStyle())"
      ]
     },
     "metadata": {},
     "output_type": "display_data"
    },
    {
     "ename": "KeyboardInterrupt",
     "evalue": "",
     "output_type": "error",
     "traceback": [
      "\u001b[0;31m---------------------------------------------------------------------------\u001b[0m",
      "\u001b[0;31mKeyboardInterrupt\u001b[0m                         Traceback (most recent call last)",
      "\u001b[0;32m<ipython-input-4-1b38871367ec>\u001b[0m in \u001b[0;36m<module>\u001b[0;34m\u001b[0m\n\u001b[1;32m     13\u001b[0m         \u001b[0mb1\u001b[0m\u001b[0;34m.\u001b[0m\u001b[0mstyle\u001b[0m\u001b[0;34m.\u001b[0m\u001b[0mbutton_color\u001b[0m \u001b[0;34m=\u001b[0m \u001b[0;34m'lightgreen'\u001b[0m\u001b[0;34m\u001b[0m\u001b[0;34m\u001b[0m\u001b[0m\n\u001b[1;32m     14\u001b[0m \u001b[0;34m\u001b[0m\u001b[0m\n\u001b[0;32m---> 15\u001b[0;31m     \u001b[0mtime\u001b[0m\u001b[0;34m.\u001b[0m\u001b[0msleep\u001b[0m\u001b[0;34m(\u001b[0m\u001b[0;36m0.1\u001b[0m\u001b[0;34m)\u001b[0m\u001b[0;34m\u001b[0m\u001b[0;34m\u001b[0m\u001b[0m\n\u001b[0m\u001b[1;32m     16\u001b[0m \u001b[0;34m\u001b[0m\u001b[0m\n\u001b[1;32m     17\u001b[0m \u001b[0;31m#b1.style.button_color = 'red'\u001b[0m\u001b[0;34m\u001b[0m\u001b[0;34m\u001b[0m\u001b[0;34m\u001b[0m\u001b[0m\n",
      "\u001b[0;31mKeyboardInterrupt\u001b[0m: "
     ]
    }
   ],
   "source": [
    "from ipywidgets import Button\n",
    "\n",
    "b1 = Button(description='Custom color')\n",
    "display(b1)\n",
    "#b1.style.button_color = 'lightgreen'\n",
    "\n",
    "while True:\n",
    "    infrared_value = get_infrared_data()\n",
    "    #print(\"infrared_value: \" + str(infrared_value))\n",
    "    if infrared_value == 0:\n",
    "        b1.style.button_color = 'red'\n",
    "    else:\n",
    "        b1.style.button_color = 'lightgreen'\n",
    "    \n",
    "    time.sleep(0.1)\n",
    "\n",
    "#b1.style.button_color = 'red'\n",
    "#b1"
   ]
  },
  {
   "cell_type": "markdown",
   "metadata": {},
   "source": [
    "# Teleoperation\n",
    "\n",
    "In this example we'll control the Jetbot remotely with a gamepad controller connected to our web browser machine."
   ]
  },
  {
   "cell_type": "code",
   "execution_count": 7,
   "metadata": {
    "scrolled": true
   },
   "outputs": [
    {
     "name": "stdout",
     "output_type": "stream",
     "text": [
      "Collisions detected in /home/kimbring2/.jupyter/jupyter_notebook_config.py and /home/kimbring2/.jupyter/jupyter_notebook_config.json config files. /home/kimbring2/.jupyter/jupyter_notebook_config.json has higher priority: {\r\n",
      "      \"NotebookApp\": {\r\n",
      "        \"password\": \"'sha1:60f3ac9aec93:be2d6048e9b1e7ae0f1ccbad9d746734bf5c3797' ignored, using 'argon2:$argon2id$v=19$m=10240,t=10,p=8$jlnJIY+q0X2G1zF/0ul1PA$ksLJmHW7IX7ezNJthhwwZg'\"\r\n",
      "      }\r\n",
      "    }\r\n",
      "Enabling notebook extension jupyter-js-widgets/extension...\r\n",
      "      - Validating: \u001b[32mOK\u001b[0m\r\n"
     ]
    }
   ],
   "source": [
    "!jupyter nbextension enable --py widgetsnbextension"
   ]
  },
  {
   "cell_type": "code",
   "execution_count": 55,
   "metadata": {},
   "outputs": [
    {
     "data": {
      "application/vnd.jupyter.widget-view+json": {
       "model_id": "a124f8e01054493aba46a8a49fcc5d7d",
       "version_major": 2,
       "version_minor": 0
      },
      "text/plain": [
       "Controller()"
      ]
     },
     "metadata": {},
     "output_type": "display_data"
    }
   ],
   "source": [
    "import ipywidgets.widgets as widgets\n",
    "\n",
    "controller = widgets.Controller(index=0)  # replace with index of your controller\n",
    "\n",
    "display(controller)"
   ]
  },
  {
   "cell_type": "markdown",
   "metadata": {},
   "source": [
    "Even if the index is correct, you may see the text ``Connect gamepad and press any button``.  That's because the gamepad hasn't\n",
    "registered with this notebook yet.  Press a button and you should see the gamepad widget appear above."
   ]
  },
  {
   "cell_type": "markdown",
   "metadata": {},
   "source": [
    "### Create gamepad controller\n",
    "\n",
    "The first thing we want to do is create an instance of the ``Controller`` widget, which we'll use to drive our robot.\n",
    "The ``Controller`` widget takes a ``index`` parameter, which specifies the number of the controller.  This is useful in case you\n",
    "have multiple controllers attached, or some gamepads *appear* as multiple controllers.  To determine the index\n",
    "of the controller you're using,\n",
    "\n",
    "1. Visit [http://html5gamepad.com](http://html5gamepad.com).  \n",
    "2. Press buttons on the gamepad you're using\n",
    "3. Remember the ``index`` of the gamepad that is responding to the button presses\n",
    "\n",
    "Next, we'll create and display our controller using that index."
   ]
  },
  {
   "cell_type": "markdown",
   "metadata": {},
   "source": [
    "### Connect gamepad controller to robot motors\n",
    "\n",
    "Now, even though we've connected our gamepad, we haven't yet attached the controls to our robot!  The first, and most simple control\n",
    "we want to attach is the motor control.  We'll connect that to the left and right vertical axes using the ``dlink`` function.  The\n",
    "``dlink`` function, unlike the ``link`` function, allows us to attach a transform between the ``source`` and ``target``.  Because\n",
    "the controller axes are flipped from what we think is intuitive for the motor control, we'll use a small *lambda* function to\n",
    "negate the value.\n",
    "\n",
    "> WARNING: This next cell will move the robot if you touch the gamepad controller axes!"
   ]
  },
  {
   "cell_type": "code",
   "execution_count": 56,
   "metadata": {
    "scrolled": true
   },
   "outputs": [],
   "source": [
    "from jetbot import Robot\n",
    "import traitlets\n",
    "\n",
    "#robot = Robot()\n",
    "\n",
    "solenoid_link = traitlets.dlink((controller.buttons[4], 'value'), (solenoid_kick, 'value'), transform=lambda x: -x)\n",
    "roller_link = traitlets.dlink((controller.buttons[6], 'value'), (roller_in, 'value'), transform=lambda x: -x)\n",
    "\n",
    "stop_link = traitlets.dlink((controller.buttons[5], 'value'), (omniwheel_stop, 'value'), transform=lambda x: -x)\n",
    "forward_link = traitlets.dlink((controller.buttons[0], 'value'), (omniwheel_forward, 'value'), transform=lambda x: -x)\n",
    "left_link = traitlets.dlink((controller.buttons[1], 'value'), (omniwheel_left, 'value'), transform=lambda x: -x)\n",
    "right_link = traitlets.dlink((controller.buttons[2], 'value'), (omniwheel_right, 'value'), transform=lambda x: -x)\n",
    "back_link = traitlets.dlink((controller.buttons[3], 'value'), (omniwheel_back, 'value'), transform=lambda x: -x)"
   ]
  },
  {
   "cell_type": "code",
   "execution_count": 125,
   "metadata": {},
   "outputs": [],
   "source": [
    "stop()"
   ]
  },
  {
   "cell_type": "markdown",
   "metadata": {},
   "source": [
    "Awesome! Our robot should now respond to our gamepad controller movements.  Now we want to view the live video feed from the camera!"
   ]
  },
  {
   "cell_type": "markdown",
   "metadata": {},
   "source": [
    "### Connect Camera to Image widget"
   ]
  },
  {
   "cell_type": "markdown",
   "metadata": {},
   "source": [
    "You should now see the live video feed shown above!\n",
    "\n",
    "> REMINDER:  You can right click the output of a cell and select ``Create New View for Output`` to display the cell in a separate window."
   ]
  },
  {
   "cell_type": "markdown",
   "metadata": {},
   "source": [
    "### Stop robot if network disconnects\n",
    "\n",
    "You can drive your robot around by looking through the video feed. But what if your robot disconnects from Wifi?  Well, the motors would keep moving and it would keep trying to stream video and motor commands.  Let's make it so that we stop the robot and unlink the camera and motors when a disconnect occurs."
   ]
  },
  {
   "cell_type": "code",
   "execution_count": 6,
   "metadata": {},
   "outputs": [],
   "source": [
    "from jetbot import Heartbeat\n",
    "\n",
    "\n",
    "def handle_heartbeat_status(change):\n",
    "    if change['new'] == Heartbeat.Status.dead:\n",
    "        camera_link.unlink()\n",
    "        left_link.unlink()\n",
    "        right_link.unlink()\n",
    "        robot.stop()\n",
    "\n",
    "heartbeat = Heartbeat(period=0.5)\n",
    "\n",
    "# attach the callback function to heartbeat status\n",
    "heartbeat.observe(handle_heartbeat_status, names='status')"
   ]
  },
  {
   "cell_type": "markdown",
   "metadata": {},
   "source": [
    "If the robot disconnects from the internet you'll notice that it stops.  You can then re-connect the camera and motors by re-creating the links with the cell below"
   ]
  },
  {
   "cell_type": "code",
   "execution_count": 7,
   "metadata": {},
   "outputs": [],
   "source": [
    "# only call this if your robot links were unlinked, otherwise we'll have redundant links which will double\n",
    "# the commands transfered\n",
    "\n",
    "left_link = traitlets.dlink((controller.axes[0], 'value'), (robot.left_motor, 'value'), transform=lambda x: -x)\n",
    "right_link = traitlets.dlink((controller.axes[1], 'value'), (robot.right_motor, 'value'), transform=lambda x: -x)\n",
    "camera_link = traitlets.dlink((camera, 'value'), (image, 'value'), transform=bgr8_to_jpeg)"
   ]
  },
  {
   "cell_type": "markdown",
   "metadata": {},
   "source": [
    "### Save snapshots with gamepad button\n",
    "\n",
    "Now, we'd like to be able to save some images from our robot.  Let's make it so the right bumper (index 5) saves a snapshot of the current live image.  We'll save the images in the ``snapshots/`` directory, with a name that is guaranteed to be unique using the ``uuid`` python package.  We use the ``uuid1`` identifier, because this also encodes the date and MAC address which we might want to use later."
   ]
  },
  {
   "cell_type": "code",
   "execution_count": 15,
   "metadata": {},
   "outputs": [
    {
     "data": {
      "application/vnd.jupyter.widget-view+json": {
       "model_id": "f4c5a5915d19466fb44b2e7a121f6caa",
       "version_major": 2,
       "version_minor": 0
      },
      "text/plain": [
       "HBox(children=(Image(value=b'\\xff\\xd8\\xff\\xe0\\x00\\x10JFIF\\x00\\x01\\x01\\x00\\x00\\x01\\x00\\x01\\x00\\x00\\xff\\xdb\\x00C…"
      ]
     },
     "metadata": {},
     "output_type": "display_data"
    },
    {
     "data": {
      "application/vnd.jupyter.widget-view+json": {
       "model_id": "7c494d77bb3b4c57a9527a243162740a",
       "version_major": 2,
       "version_minor": 0
      },
      "text/plain": [
       "Controller(axes=(Axis(value=0.0), Axis(value=0.0), Axis(value=0.0), Axis(value=0.0), Axis(value=0.0), Axis(val…"
      ]
     },
     "metadata": {},
     "output_type": "display_data"
    }
   ],
   "source": [
    "import uuid\n",
    "import subprocess\n",
    "\n",
    "subprocess.call(['mkdir', '-p', 'snapshots'])\n",
    "\n",
    "snapshot_image = widgets.Image(format='jpeg', width=300, height=300)\n",
    "\n",
    "def save_snapshot(change):\n",
    "    # save snapshot when button is pressed down\n",
    "    if change['new']:\n",
    "        file_path = 'snapshots/' + str(uuid.uuid1()) + '.jpg'\n",
    "        \n",
    "        # write snapshot to file (we use image value instead of camera because it's already in JPEG format)\n",
    "        with open(file_path, 'wb') as f:\n",
    "            f.write(image.value)\n",
    "            \n",
    "        # display snapshot that was saved\n",
    "        snapshot_image.value = image.value\n",
    "\n",
    "\n",
    "controller.buttons[3].observe(save_snapshot, names='value')\n",
    "\n",
    "display(widgets.HBox([image, snapshot_image]))\n",
    "display(controller)"
   ]
  },
  {
   "cell_type": "markdown",
   "metadata": {},
   "source": [
    "### Conclusion\n",
    "\n",
    "That's it for this example, have fun!"
   ]
  }
 ],
 "metadata": {
  "kernelspec": {
   "display_name": "Python 3",
   "language": "python",
   "name": "python3"
  },
  "language_info": {
   "codemirror_mode": {
    "name": "ipython",
    "version": 3
   },
   "file_extension": ".py",
   "mimetype": "text/x-python",
   "name": "python",
   "nbconvert_exporter": "python",
   "pygments_lexer": "ipython3",
   "version": "3.6.9"
  }
 },
 "nbformat": 4,
 "nbformat_minor": 4
}
