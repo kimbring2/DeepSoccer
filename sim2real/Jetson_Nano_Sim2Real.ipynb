{
 "cells": [
  {
   "cell_type": "code",
   "execution_count": 1,
   "metadata": {
    "scrolled": true
   },
   "outputs": [],
   "source": [
    "import tensorflow as tf\n",
    "import cv2\n",
    "import numpy as np\n",
    "import matplotlib.pyplot as plt\n",
    "import os \n",
    "\n",
    "os.environ['CUDA_VISIBLE_DEVICES'] = '-1'\n",
    "\n",
    "path_video_out = '/media/kimbring2/Steam/sim2real/raw_video.avi'\n",
    "video_out = cv2.VideoWriter(path_video_out, cv2.VideoWriter_fourcc(*'DIVX'), 20, (640,360))\n",
    "\n",
    "imported_seg = tf.saved_model.load(\"/media/kimbring2/Steam/sim2real/segmentation_model\")\n",
    "imported_gan = tf.saved_model.load(\"/media/kimbring2/Steam/sim2real/cyclegan_model\")\n",
    "\n",
    "f_seg = imported_seg.signatures[\"serving_default\"]\n",
    "f_gan = imported_gan.signatures[\"serving_default\"]"
   ]
  },
  {
   "cell_type": "code",
   "execution_count": 2,
   "metadata": {
    "scrolled": true
   },
   "outputs": [
    {
     "name": "stdout",
     "output_type": "stream",
     "text": [
      "seg_test_result.shape: (256, 256, 3)\n",
      "gan_test_result.shape: (256, 256, 3)\n"
     ]
    }
   ],
   "source": [
    "seg_test_input = np.zeros([1,256,256,3])\n",
    "gan_test_input = np.zeros([1,256,256,3])\n",
    "#style_test_input = np.zeros([1,256,256,3])\n",
    "\n",
    "seg_test_tensor = tf.convert_to_tensor(seg_test_input, dtype=tf.float32)\n",
    "gan_test_tensor = tf.convert_to_tensor(gan_test_input, dtype=tf.float32)\n",
    "\n",
    "seg_test_result = f_seg(seg_test_tensor)['conv2d_transpose_4'].numpy()[0]\n",
    "gan_test_result = f_gan(gan_test_tensor)['conv2d_transpose_7'].numpy()[0]\n",
    "\n",
    "print(\"seg_test_result.shape: \" + str(seg_test_result.shape))\n",
    "print(\"gan_test_result.shape: \" + str(gan_test_result.shape))"
   ]
  },
  {
   "cell_type": "code",
   "execution_count": 3,
   "metadata": {
    "scrolled": true
   },
   "outputs": [
    {
     "data": {
      "text/plain": [
       "True"
      ]
     },
     "execution_count": 3,
     "metadata": {},
     "output_type": "execute_result"
    },
    {
     "data": {
      "image/png": "[encoded data removed]",
      "text/plain": [
       "<Figure size 432x288 with 1 Axes>"
      ]
     },
     "metadata": {
      "needs_background": "light"
     },
     "output_type": "display_data"
    }
   ],
   "source": [
    "import matplotlib.pyplot as plt\n",
    "\n",
    "image_path = '/media/kimbring2/Steam/sim2real/content_image.jpg'\n",
    "test_image = cv2.imread(image_path)\n",
    "frame = test_image\n",
    "test_image = cv2.normalize(test_image, None, 0, 1, cv2.NORM_MINMAX, cv2.CV_32F)\n",
    "\n",
    "test_tensor = tf.convert_to_tensor(test_image, dtype=tf.float32)\n",
    "test_tensor = tf.image.resize(test_tensor, [256,256], method=tf.image.ResizeMethod.NEAREST_NEIGHBOR)\n",
    "test_tensor = tf.reshape(test_tensor, [1,256,256,3], name=None)\n",
    "\n",
    "#pred_masks = model.predict(test_tensor)\n",
    "pred_mask = f_seg(test_tensor)['conv2d_transpose_4']\n",
    "pred_mask = tf.argmax(pred_mask, axis=-1)\n",
    "pred_mask = pred_mask[..., tf.newaxis]\n",
    "pred_mask = pred_mask[0]\n",
    "pred_mask = tf.keras.preprocessing.image.array_to_img(pred_mask)\n",
    "pred_mask = np.array(pred_mask)\n",
    "ret, thresh = cv2.threshold(pred_mask, 126, 255, cv2.THRESH_BINARY)\n",
    "\n",
    "kernel = np.ones((5, 5), np.uint8)\n",
    "erudition_image = cv2.erode(thresh, kernel, iterations=2)  #// make dilation image\n",
    "dilation_image = cv2.dilate(erudition_image, kernel, iterations=2)  #// make dilation image\n",
    "dilation_image = cv2.resize(np.float32(dilation_image), dsize=(640,360), interpolation=cv2.INTER_AREA)\n",
    "plt.imshow(dilation_image)\n",
    "dilation_image = dilation_image != 255.0\n",
    "\n",
    "# converting from BGR to HSV color space\n",
    "hsv_frame = cv2.cvtColor(frame, cv2.COLOR_BGR2HSV)\n",
    "\n",
    "# Red color\n",
    "low_red = np.array([120, 155, 84])\n",
    "high_red = np.array([179, 255, 255])\n",
    "red_mask = cv2.inRange(hsv_frame, low_red, high_red)\n",
    "red = cv2.bitwise_and(frame, frame, mask=red_mask)\n",
    "\n",
    "# Blue color\n",
    "low_blue = np.array([110, 130, 2])\n",
    "high_blue = np.array([126, 255, 255])\n",
    "blue_mask = cv2.inRange(hsv_frame, low_blue, high_blue)\n",
    "kernel = np.ones((10, 10), np.uint8)\n",
    "blue_mask = cv2.dilate(blue_mask, kernel, iterations=1)  #// make dilation image\n",
    "blue = cv2.bitwise_and(frame, frame, mask=blue_mask)\n",
    "\n",
    "# Green color\n",
    "low_green = np.array([25, 52, 72])\n",
    "high_green = np.array([60, 255, 255])\n",
    "green_mask = cv2.inRange(hsv_frame, low_green, high_green)\n",
    "kernel = np.ones((5, 5), np.uint8)\n",
    "green_mask = cv2.dilate(green_mask, kernel, iterations=1)  #// make dilation image\n",
    "green = cv2.bitwise_and(frame, frame, mask=green_mask)\n",
    "\n",
    "mask = green_mask + blue_mask + dilation_image\n",
    "\n",
    "result = cv2.bitwise_and(frame, frame, mask=mask)\n",
    "result_mean = np.mean(result)\n",
    "\n",
    "for i in range(0, result.shape[0]):\n",
    "    for j in range(0, result.shape[1]):\n",
    "        if result[i,j,0] == 0 and result[i,j,1] == 0 and result[i,j,2] == 0:\n",
    "            result[i][j] = result_mean     \n",
    "            \n",
    "cv2.imwrite(\"/media/kimbring2/Steam/sim2real/image_seg.jpg\", result)\n",
    "            \n",
    "test_image = result\n",
    "test_image = (test_image / 127.5) - 1\n",
    "\n",
    "test_tensor = tf.convert_to_tensor(test_image, dtype=tf.float32)\n",
    "test_tensor = tf.image.resize(test_tensor, [256, 256], method=tf.image.ResizeMethod.NEAREST_NEIGHBOR)\n",
    "test_tensor = tf.reshape(test_tensor, [1,256,256,3], name=None)\n",
    "\n",
    "#generate_images(f_gan, test_tensor)\n",
    "prediction = f_gan(test_tensor)['conv2d_transpose_7'].numpy()\n",
    "\n",
    "gan_result = prediction[0]* 0.5 + 0.5\n",
    "gan_result = gan_result * 255\n",
    "\n",
    "#plt.imshow(gan_result)\n",
    "cv2.imwrite(\"/media/kimbring2/Steam/sim2real/image_gan.jpg\", gan_result)"
   ]
  },
  {
   "cell_type": "code",
   "execution_count": 42,
   "metadata": {
    "scrolled": true
   },
   "outputs": [
    {
     "name": "stdout",
     "output_type": "stream",
     "text": [
      "ret: True\n",
      "result.shape: (360, 640, 3)\n",
      "ret: True\n",
      "result.shape: (360, 640, 3)\n",
      "ret: True\n",
      "result.shape: (360, 640, 3)\n",
      "ret: True\n",
      "result.shape: (360, 640, 3)\n",
      "ret: True\n",
      "result.shape: (360, 640, 3)\n",
      "ret: True\n",
      "result.shape: (360, 640, 3)\n",
      "ret: True\n",
      "result.shape: (360, 640, 3)\n",
      "ret: True\n",
      "result.shape: (360, 640, 3)\n"
     ]
    },
    {
     "ename": "KeyboardInterrupt",
     "evalue": "",
     "output_type": "error",
     "traceback": [
      "\u001b[0;31m---------------------------------------------------------------------------\u001b[0m",
      "\u001b[0;31mKeyboardInterrupt\u001b[0m                         Traceback (most recent call last)",
      "\u001b[0;32m<ipython-input-42-0a71eaf611b5>\u001b[0m in \u001b[0;36m<module>\u001b[0;34m\u001b[0m\n\u001b[1;32m     74\u001b[0m         \u001b[0;32mfor\u001b[0m \u001b[0mi\u001b[0m \u001b[0;32min\u001b[0m \u001b[0mrange\u001b[0m\u001b[0;34m(\u001b[0m\u001b[0;36m0\u001b[0m\u001b[0;34m,\u001b[0m \u001b[0mresult\u001b[0m\u001b[0;34m.\u001b[0m\u001b[0mshape\u001b[0m\u001b[0;34m[\u001b[0m\u001b[0;36m0\u001b[0m\u001b[0;34m]\u001b[0m\u001b[0;34m)\u001b[0m\u001b[0;34m:\u001b[0m\u001b[0;34m\u001b[0m\u001b[0;34m\u001b[0m\u001b[0m\n\u001b[1;32m     75\u001b[0m             \u001b[0;32mfor\u001b[0m \u001b[0mj\u001b[0m \u001b[0;32min\u001b[0m \u001b[0mrange\u001b[0m\u001b[0;34m(\u001b[0m\u001b[0;36m0\u001b[0m\u001b[0;34m,\u001b[0m \u001b[0mresult\u001b[0m\u001b[0;34m.\u001b[0m\u001b[0mshape\u001b[0m\u001b[0;34m[\u001b[0m\u001b[0;36m1\u001b[0m\u001b[0;34m]\u001b[0m\u001b[0;34m)\u001b[0m\u001b[0;34m:\u001b[0m\u001b[0;34m\u001b[0m\u001b[0;34m\u001b[0m\u001b[0m\n\u001b[0;32m---> 76\u001b[0;31m                 \u001b[0;32mif\u001b[0m \u001b[0mresult\u001b[0m\u001b[0;34m[\u001b[0m\u001b[0mi\u001b[0m\u001b[0;34m,\u001b[0m\u001b[0mj\u001b[0m\u001b[0;34m,\u001b[0m\u001b[0;36m0\u001b[0m\u001b[0;34m]\u001b[0m \u001b[0;34m==\u001b[0m \u001b[0;36m0\u001b[0m \u001b[0;32mand\u001b[0m \u001b[0mresult\u001b[0m\u001b[0;34m[\u001b[0m\u001b[0mi\u001b[0m\u001b[0;34m,\u001b[0m\u001b[0mj\u001b[0m\u001b[0;34m,\u001b[0m\u001b[0;36m1\u001b[0m\u001b[0;34m]\u001b[0m \u001b[0;34m==\u001b[0m \u001b[0;36m0\u001b[0m \u001b[0;32mand\u001b[0m \u001b[0mresult\u001b[0m\u001b[0;34m[\u001b[0m\u001b[0mi\u001b[0m\u001b[0;34m,\u001b[0m\u001b[0mj\u001b[0m\u001b[0;34m,\u001b[0m\u001b[0;36m2\u001b[0m\u001b[0;34m]\u001b[0m \u001b[0;34m==\u001b[0m \u001b[0;36m0\u001b[0m\u001b[0;34m:\u001b[0m\u001b[0;34m\u001b[0m\u001b[0;34m\u001b[0m\u001b[0m\n\u001b[0m\u001b[1;32m     77\u001b[0m                     \u001b[0mresult\u001b[0m\u001b[0;34m[\u001b[0m\u001b[0mi\u001b[0m\u001b[0;34m]\u001b[0m\u001b[0;34m[\u001b[0m\u001b[0mj\u001b[0m\u001b[0;34m]\u001b[0m \u001b[0;34m=\u001b[0m \u001b[0mresult_mean\u001b[0m\u001b[0;34m\u001b[0m\u001b[0;34m\u001b[0m\u001b[0m\n\u001b[1;32m     78\u001b[0m \u001b[0;34m\u001b[0m\u001b[0m\n",
      "\u001b[0;31mKeyboardInterrupt\u001b[0m: "
     ]
    }
   ],
   "source": [
    "path_dilation_video = '/home/kimbring2/Desktop/dilation_video.avi'\n",
    "path_segmented_video = '/home/kimbring2/Desktop/segmented_video.avi'\n",
    "\n",
    "dilation_video_out = cv2.VideoWriter(path_dilation_video, cv2.VideoWriter_fourcc(*'DIVX'), 5, (640,360))\n",
    "segmented_video_out = cv2.VideoWriter(path_segmented_video, cv2.VideoWriter_fourcc(*'DIVX'), 5, (640,360))\n",
    "\n",
    "cap = cv2.VideoCapture('/home/kimbring2/Desktop/image_real_3.avi')\n",
    "\n",
    "frame_index = 0\n",
    "while(cap.isOpened()):\n",
    "    ret, frame = cap.read()\n",
    "    print(\"ret: \" + str(ret))\n",
    "    if ret == True:\n",
    "        frame_index += 1\n",
    "        \n",
    "        test_image = cv2.normalize(test_image, None, 0, 1, cv2.NORM_MINMAX, cv2.CV_32F)\n",
    "        \n",
    "        test_tensor = tf.convert_to_tensor(test_image, dtype=tf.float32)\n",
    "        test_tensor = tf.image.resize(test_tensor, [256,256], method=tf.image.ResizeMethod.NEAREST_NEIGHBOR)\n",
    "        test_tensor = tf.reshape(test_tensor, [1,256,256,3], name=None)\n",
    "\n",
    "        #pred_masks = model.predict(test_tensor)\n",
    "        pred_mask = f_seg(test_tensor)['conv2d_transpose_4']\n",
    "        pred_mask = tf.argmax(pred_mask, axis=-1)\n",
    "        pred_mask = pred_mask[..., tf.newaxis]\n",
    "        pred_mask = pred_mask[0]\n",
    "        pred_mask = tf.keras.preprocessing.image.array_to_img(pred_mask)\n",
    "        pred_mask = np.array(pred_mask)\n",
    "        ret, thresh = cv2.threshold(pred_mask, 126, 255, cv2.THRESH_BINARY)\n",
    "\n",
    "        kernel = np.ones((5, 5), np.uint8)\n",
    "        erudition_image = cv2.erode(thresh, kernel, iterations=2)  #// make dilation image\n",
    "        dilation_image = cv2.dilate(erudition_image, kernel, iterations=2)  #// make dilation image\n",
    "        dilation_image = cv2.resize(np.float32(dilation_image), dsize=(640,360), interpolation=cv2.INTER_AREA)\n",
    "        dilation_image_rgb = cv2.cvtColor(dilation_image, cv2.COLOR_GRAY2RGB)\n",
    "        #print(\"np.uint8(dilation_image_rgb).shape: \" + str(np.uint8(dilation_image_rgb).shape))\n",
    "        dilation_video_out.write(np.uint8(dilation_image_rgb))\n",
    "        \n",
    "        dilation_image = dilation_image != 255.0\n",
    "\n",
    "        # converting from BGR to HSV color space\n",
    "        hsv_frame = cv2.cvtColor(frame, cv2.COLOR_BGR2HSV)\n",
    "\n",
    "        # Red color\n",
    "        low_red = np.array([120, 155, 84])\n",
    "        high_red = np.array([179, 255, 255])\n",
    "        red_mask = cv2.inRange(hsv_frame, low_red, high_red)\n",
    "        red = cv2.bitwise_and(frame, frame, mask=red_mask)\n",
    "\n",
    "        # Blue color\n",
    "        low_blue = np.array([110, 130, 2])\n",
    "        high_blue = np.array([126, 255, 255])\n",
    "        blue_mask = cv2.inRange(hsv_frame, low_blue, high_blue)\n",
    "        kernel = np.ones((10, 10), np.uint8)\n",
    "        blue_mask = cv2.dilate(blue_mask, kernel, iterations=1)  #// make dilation image\n",
    "        blue = cv2.bitwise_and(frame, frame, mask=blue_mask)\n",
    "\n",
    "        # Green color\n",
    "        low_green = np.array([25, 52, 72])\n",
    "        high_green = np.array([60, 255, 255])\n",
    "        green_mask = cv2.inRange(hsv_frame, low_green, high_green)\n",
    "        kernel = np.ones((5, 5), np.uint8)\n",
    "        green_mask = cv2.dilate(green_mask, kernel, iterations=1)  #// make dilation image\n",
    "        green = cv2.bitwise_and(frame, frame, mask=green_mask)\n",
    "\n",
    "        mask = green_mask + blue_mask + dilation_image\n",
    "\n",
    "        result = cv2.bitwise_and(frame, frame, mask=mask)\n",
    "        result_mean = np.mean(result)\n",
    "\n",
    "        print(\"result.shape: \" + str(result.shape))\n",
    "        segmented_video_out.write(result)\n",
    "        \n",
    "        for i in range(0, result.shape[0]):\n",
    "            for j in range(0, result.shape[1]):\n",
    "                if result[i,j,0] == 0 and result[i,j,1] == 0 and result[i,j,2] == 0:\n",
    "                    result[i][j] = result_mean     \n",
    "\n",
    "        test_image = result\n",
    "        test_image = (test_image / 127.5) - 1\n",
    "\n",
    "        test_tensor = tf.convert_to_tensor(test_image, dtype=tf.float32)\n",
    "        test_tensor = tf.image.resize(test_tensor, [256, 256], method=tf.image.ResizeMethod.NEAREST_NEIGHBOR)\n",
    "        test_tensor = tf.reshape(test_tensor, [1,256,256,3], name=None)\n",
    "\n",
    "        #generate_images(f_gan, test_tensor)\n",
    "        prediction = f_gan(test_tensor)['conv2d_transpose_7'].numpy()\n",
    "\n",
    "        gan_result = prediction[0]* 0.5 + 0.5\n",
    "        gan_result = gan_result * 255\n",
    "        #cv2.imwrite(\"/home/kimbring2/Desktop/result_image/image_\" + str(frame_index) + \".jpg\", gan_result)"
   ]
  },
  {
   "cell_type": "code",
   "execution_count": null,
   "metadata": {},
   "outputs": [],
   "source": []
  }
 ],
 "metadata": {
  "kernelspec": {
   "display_name": "pysc2_env",
   "language": "python",
   "name": "pysc2_env"
  },
  "language_info": {
   "codemirror_mode": {
    "name": "ipython",
    "version": 3
   },
   "file_extension": ".py",
   "mimetype": "text/x-python",
   "name": "python",
   "nbconvert_exporter": "python",
   "pygments_lexer": "ipython3",
   "version": "3.6.9"
  }
 },
 "nbformat": 4,
 "nbformat_minor": 4
}
